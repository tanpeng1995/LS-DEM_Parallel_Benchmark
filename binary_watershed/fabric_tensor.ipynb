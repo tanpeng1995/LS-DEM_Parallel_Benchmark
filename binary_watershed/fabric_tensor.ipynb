{
 "cells": [
  {
   "cell_type": "code",
   "execution_count": 97,
   "metadata": {},
   "outputs": [],
   "source": [
    "import matplotlib.pyplot as plt\n",
    "from matplotlib import cm\n",
    "from matplotlib.ticker import LinearLocator\n",
    "import numpy as np"
   ]
  },
  {
   "cell_type": "code",
   "execution_count": 98,
   "metadata": {},
   "outputs": [],
   "source": [
    "data_file = '/home/hasitha/Desktop/data/fabric/fabric_400/results/contact_fabric_400_2400.dat'\n",
    "with open(data_file, 'r') as file:\n",
    "    cns_str = file.readlines()\n",
    "    cns = []\n",
    "    for cn_str in cns_str:\n",
    "        cn = cn_str.split()\n",
    "        cns.append([float(n) for n in cn])\n",
    "    cns = np.array(cns)"
   ]
  },
  {
   "cell_type": "code",
   "execution_count": 99,
   "metadata": {},
   "outputs": [],
   "source": [
    "def delta(i,j):\n",
    "    return 1 if i == j else 0"
   ]
  },
  {
   "cell_type": "code",
   "execution_count": 100,
   "metadata": {},
   "outputs": [],
   "source": [
    "def D_ij(i,j):\n",
    "    N = len(cns)\n",
    "    return np.sum([cn[i]*cn[j] for cn in cns])/N"
   ]
  },
  {
   "cell_type": "code",
   "execution_count": 102,
   "metadata": {},
   "outputs": [],
   "source": [
    "def F_ij(i,j):\n",
    "    return 1.5*(5*D_ij(i,j)-delta(i,j))"
   ]
  },
  {
   "cell_type": "code",
   "execution_count": 103,
   "metadata": {},
   "outputs": [
    {
     "data": {
      "text/plain": [
       "0.7290497558108111"
      ]
     },
     "execution_count": 103,
     "metadata": {},
     "output_type": "execute_result"
    }
   ],
   "source": [
    "F_ij(0,0)"
   ]
  },
  {
   "cell_type": "code",
   "execution_count": 79,
   "metadata": {},
   "outputs": [],
   "source": [
    "F2 = np.zeros((3,3))\n",
    "for i in np.arange(3):\n",
    "    for j in np.arange(3):\n",
    "        F2[i,j] = F_ij(i,j)"
   ]
  },
  {
   "cell_type": "code",
   "execution_count": 94,
   "metadata": {},
   "outputs": [
    {
     "name": "stdout",
     "output_type": "stream",
     "text": [
      "[[ 2.97206634e-01  2.08784987e-03 -1.98412871e-05]\n",
      " [ 2.08784987e-03  2.60653350e-01  3.99759715e-03]\n",
      " [-1.98412871e-05  3.99759715e-03  4.42140359e-01]]\n"
     ]
    }
   ],
   "source": [
    "D2 = np.zeros((3,3))\n",
    "for i in np.arange(3):\n",
    "    for j in np.arange(3):\n",
    "        D2[i,j] = D_ij(i,j)\n",
    "print(D2)"
   ]
  },
  {
   "cell_type": "code",
   "execution_count": 83,
   "metadata": {},
   "outputs": [],
   "source": [
    "def I_ijkl(i,j,k,l):\n",
    "    return (delta(i,j)*delta(k,l) + delta(i,k)*delta(j,l) + delta(i,l)*delta(j,k))/3."
   ]
  },
  {
   "cell_type": "code",
   "execution_count": 85,
   "metadata": {},
   "outputs": [],
   "source": [
    "def D_ijkl(i,j,k,l):\n",
    "    N = len(cns)\n",
    "    return np.sum([cn[i]*cn[j]*cn[k]*cn[l] for cn in cns])/N"
   ]
  },
  {
   "cell_type": "code",
   "execution_count": 87,
   "metadata": {},
   "outputs": [],
   "source": [
    "def F_ijkl(i,j,k,l):\n",
    "    first = 21*D_ijkl(i,j,k,l)\n",
    "    second = (delta(i,j)*D_ij(k,l) + delta(i,k)*D_ij(j,l) + delta(i,l)*D_ij(k,j) + \\\n",
    "              delta(j,k)*D_ij(i,l) + delta(j,l)*D_ij(i,k) + delta(k,l)*D_ij(i,j) )*14/6\n",
    "    third = I_ijkl(i,j,k,l)\n",
    "    return (first + second + third)*15/8"
   ]
  },
  {
   "cell_type": "code",
   "execution_count": 90,
   "metadata": {},
   "outputs": [],
   "source": [
    "F4 = np.array([[F_ijkl(0,0,0,0), F_ijkl(0,0,1,1), F_ijkl(0,0,2,2), F_ijkl(0,0,1,2), F_ijkl(0,0,0,2), F_ijkl(0,0,0,1)],\n",
    "            [F_ijkl(1,1,0,0), F_ijkl(1,1,1,1), F_ijkl(1,1,2,2), F_ijkl(1,1,1,2), F_ijkl(1,1,0,2), F_ijkl(1,1,0,1)],\n",
    "            [F_ijkl(2,2,0,0), F_ijkl(2,2,1,1), F_ijkl(2,2,2,2), F_ijkl(2,2,1,2), F_ijkl(2,2,0,2), F_ijkl(2,2,0,1)],\n",
    "            [F_ijkl(1,2,0,0), F_ijkl(1,2,1,1), F_ijkl(1,2,2,2), F_ijkl(1,2,1,2), F_ijkl(1,2,0,2), F_ijkl(1,2,0,1)],\n",
    "            [F_ijkl(0,2,0,0), F_ijkl(0,2,1,1), F_ijkl(0,2,2,2), F_ijkl(0,2,1,2), F_ijkl(0,2,0,2), F_ijkl(0,2,0,1)],\n",
    "            [F_ijkl(0,1,0,0), F_ijkl(0,1,1,1), F_ijkl(0,1,2,2), F_ijkl(0,1,1,2), F_ijkl(0,1,0,2), F_ijkl(0,1,0,1)]])"
   ]
  },
  {
   "cell_type": "code",
   "execution_count": 95,
   "metadata": {},
   "outputs": [],
   "source": [
    "D4 = np.array([[D_ijkl(0,0,0,0), D_ijkl(0,0,1,1), D_ijkl(0,0,2,2), D_ijkl(0,0,1,2), D_ijkl(0,0,0,2), D_ijkl(0,0,0,1)],\n",
    "            [D_ijkl(1,1,0,0), D_ijkl(1,1,1,1), D_ijkl(1,1,2,2), D_ijkl(1,1,1,2), D_ijkl(1,1,0,2), D_ijkl(1,1,0,1)],\n",
    "            [D_ijkl(2,2,0,0), D_ijkl(2,2,1,1), D_ijkl(2,2,2,2), D_ijkl(2,2,1,2), D_ijkl(2,2,0,2), D_ijkl(2,2,0,1)],\n",
    "            [D_ijkl(1,2,0,0), D_ijkl(1,2,1,1), D_ijkl(1,2,2,2), D_ijkl(1,2,1,2), D_ijkl(1,2,0,2), D_ijkl(1,2,0,1)],\n",
    "            [D_ijkl(0,2,0,0), D_ijkl(0,2,1,1), D_ijkl(0,2,2,2), D_ijkl(0,2,1,2), D_ijkl(0,2,0,2), D_ijkl(0,2,0,1)],\n",
    "            [D_ijkl(0,1,0,0), D_ijkl(0,1,1,1), D_ijkl(0,1,2,2), D_ijkl(0,1,1,2), D_ijkl(0,1,0,2), D_ijkl(0,1,0,1)]])"
   ]
  },
  {
   "cell_type": "code",
   "execution_count": null,
   "metadata": {},
   "outputs": [],
   "source": []
  }
 ],
 "metadata": {
  "kernelspec": {
   "display_name": "Python 3",
   "language": "python",
   "name": "python3"
  },
  "language_info": {
   "codemirror_mode": {
    "name": "ipython",
    "version": 3
   },
   "file_extension": ".py",
   "mimetype": "text/x-python",
   "name": "python",
   "nbconvert_exporter": "python",
   "pygments_lexer": "ipython3",
   "version": "3.8.5"
  }
 },
 "nbformat": 4,
 "nbformat_minor": 4
}
