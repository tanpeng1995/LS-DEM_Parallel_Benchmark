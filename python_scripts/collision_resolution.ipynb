{
 "cells": [
  {
   "cell_type": "code",
   "execution_count": 1,
   "metadata": {},
   "outputs": [],
   "source": [
    "import numpy as np"
   ]
  },
  {
   "cell_type": "code",
   "execution_count": 44,
   "metadata": {},
   "outputs": [],
   "source": [
    "class Sphere:\n",
    "    def __init__(self, velocity, mass, radius, id):\n",
    "        self.id       = id \n",
    "        self.velocity = velocity\n",
    "        self.mass     = mass\n",
    "        self.radius   = radius\n",
    "    \n",
    "    def addVelocity(self, impulse):\n",
    "        self.velocity += impulse/self.mass\n",
    "        \n",
    "    def printInfo(self):\n",
    "        print(\"ball {} velocity:{}\".format(self.id, self.velocity))\n",
    "\n",
    "class Contact:\n",
    "    def __init__(self, masterId, slaveId, colMat, velocity, energy):\n",
    "        self.masterId = masterId\n",
    "        self.slaveId  = slaveId\n",
    "        self.colMat   = colMat\n",
    "        self.velocity = velocity\n",
    "        self.energy   = energy\n",
    "        \n",
    "    def addEnergy(self, deltaE):\n",
    "        self.energy += deltaE\n",
    "        if abs(self.energy) < 0.1:\n",
    "            self.energy = 0.\n",
    "        \n",
    "    def relVelocity(self, spheres):\n",
    "        if self.slaveId != -1:\n",
    "            self.velocity = spheres[self.masterId].velocity - spheres[self.slaveId].velocity\n",
    "        else:\n",
    "            self.velocity = spheres[self.masterId].velocity\n",
    "            \n",
    "        if abs(self.velocity) < 0.1:\n",
    "            self.velocity = 0\n",
    "            \n",
    "    def resititution(self, scalar):\n",
    "        self.energy *= scalar\n",
    "            \n",
    "    def printInfo(self):\n",
    "        print(\"masterId:{}, slaveId:{}, colMat:{}, velocity:{}, energy:{}\".format(self.masterId, self.slaveId, self.colMat, self.velocity, self.energy))"
   ]
  },
  {
   "cell_type": "code",
   "execution_count": 45,
   "metadata": {},
   "outputs": [
    {
     "name": "stdout",
     "output_type": "stream",
     "text": [
      "compression takes 2313 iteration\n",
      "release takes 528 iteration\n",
      "compression takes 108 iteration\n",
      "release takes 197 iteration\n",
      "compression takes 28 iteration\n",
      "release takes 0 iteration\n",
      "masterId:0, slaveId:-1, colMat:0.1, velocity:21.527351247093005, energy:0.0\n",
      "masterId:1, slaveId:0, colMat:0.2, velocity:0, energy:0.0\n",
      "masterId:2, slaveId:1, colMat:0.2, velocity:22.040128139655756, energy:0.0\n",
      "ball 0 velocity:21.527351247093005\n",
      "ball 1 velocity:21.430575752225785\n",
      "ball 2 velocity:43.47070389188154\n"
     ]
    }
   ],
   "source": [
    "contact1 = Contact(0,-1,0.1,-30,0)\n",
    "contact2 = Contact(1,0,0.2,-20,0)\n",
    "contact3 = Contact(2,1,0.2,-10,0)\n",
    "sphere1  = Sphere(-30,10,10,0)\n",
    "sphere2  = Sphere(-50,10,10,1)\n",
    "sphere3  = Sphere(-60,10,10,2)\n",
    "contactList = [contact1, contact2, contact3]\n",
    "spheres     = [sphere1, sphere2, sphere3]\n",
    "#contactList = [contact1]\n",
    "#spheres     = [sphere1]\n",
    "#START COLLISION RESOLUTION\n",
    "minVqueue = []\n",
    "maxEqueue = []\n",
    "for contact, i in zip(contactList,np.arange(len(contactList))):\n",
    "    if contact.velocity < 0.:\n",
    "        minVqueue.append((i, contact.velocity, contact.energy))\n",
    "#sort by value\n",
    "minVqueue = sorted(minVqueue, key = lambda x:x[1], reverse=False)\n",
    "\n",
    "while len(minVqueue) > 0:\n",
    "    #COMPRESSION PHASE\n",
    "    count = 0\n",
    "    while len(minVqueue) > 0:\n",
    "        firstItem = minVqueue.pop(0)\n",
    "        contact = contactList[firstItem[0]]\n",
    "        deltaV  = -contact.velocity/20\n",
    "        impulse = deltaV/contact.colMat\n",
    "\n",
    "        if contact.slaveId != -1:\n",
    "            spheres[contact.masterId].addVelocity(impulse)\n",
    "            spheres[contact.slaveId].addVelocity(-impulse)\n",
    "        else:\n",
    "            spheres[contact.masterId].addVelocity(impulse)\n",
    "        contact.relVelocity(spheres)\n",
    "        deltaE  = 0.5*abs(2*contact.velocity+deltaV)*impulse\n",
    "        contact.addEnergy(deltaE)\n",
    "        #contact.printInfo()\n",
    "        minVqueue = []\n",
    "        for contact, i in zip(contactList,np.arange(len(contactList))):\n",
    "            contact.relVelocity(spheres)\n",
    "            if contact.velocity < 0.:\n",
    "                minVqueue.append((i, contact.velocity, contact.energy))\n",
    "        minVqueue = sorted(minVqueue, key = lambda x:x[1], reverse=False)\n",
    "        count += 1\n",
    "    print(\"compression takes {} iteration\".format(count))\n",
    "\n",
    "    # RESTITUTION PHASE\n",
    "    for contact in contactList:\n",
    "        contact.resititution(1.)\n",
    "        \n",
    "    # RELEASE PHASE\n",
    "    maxEqueue = []\n",
    "    for contact, i in zip(contactList,np.arange(len(contactList))):\n",
    "        contact.relVelocity(spheres)\n",
    "        if contact.energy > 0:\n",
    "            maxEqueue.append((i, contact.velocity, contact.energy))\n",
    "    maxEqueue = sorted(maxEqueue, key = lambda x:x[2], reverse=True)\n",
    "    count = 0\n",
    "    while len(maxEqueue) > 0:\n",
    "        firstItem = maxEqueue.pop(0)\n",
    "        contact = contactList[firstItem[0]]\n",
    "        #contact.printInfo()\n",
    "        maxV    = -contact.velocity + np.sqrt(contact.velocity**2 + 2.*contact.energy*contact.colMat)\n",
    "        deltaV  = maxV/20\n",
    "        impulse = deltaV/contact.colMat\n",
    "\n",
    "        if contact.slaveId != -1:\n",
    "            spheres[contact.masterId].addVelocity(impulse)\n",
    "            spheres[contact.slaveId].addVelocity(-impulse)\n",
    "        else:\n",
    "            spheres[contact.masterId].addVelocity(impulse)\n",
    "        contact.relVelocity(spheres)\n",
    "        deltaE  = 0.5*abs(2*contact.velocity+deltaV)*impulse\n",
    "        contact.addEnergy(-deltaE)\n",
    "        maxEqueue = []\n",
    "        for contact, i in zip(contactList,np.arange(len(contactList))):\n",
    "            contact.relVelocity(spheres)\n",
    "            if contact.energy > 0:\n",
    "                maxEqueue.append((i, contact.velocity, contact.energy))\n",
    "        maxEqueue = sorted(maxEqueue, key = lambda x:x[2], reverse=True)\n",
    "        count += 1\n",
    "    print(\"release takes {} iteration\".format(count))\n",
    "    \n",
    "\n",
    "    minVqueue = []\n",
    "    for contact, i in zip(contactList,np.arange(len(contactList))):\n",
    "        contact.relVelocity(spheres)\n",
    "        if contact.velocity < 0.:\n",
    "            minVqueue.append((i, contact.velocity, contact.energy))\n",
    "    minVqueue = sorted(minVqueue, key = lambda x:x[1], reverse=False)\n",
    "    \n",
    "for contact in contactList:\n",
    "    contact.printInfo()\n",
    "for sphere in spheres:\n",
    "    sphere.printInfo()"
   ]
  },
  {
   "cell_type": "code",
   "execution_count": 3,
   "metadata": {},
   "outputs": [
    {
     "data": {
      "text/plain": [
       "3533"
      ]
     },
     "execution_count": 3,
     "metadata": {},
     "output_type": "execute_result"
    }
   ],
   "source": [
    "20**2 + 37**2 + 42**2"
   ]
  },
  {
   "cell_type": "code",
   "execution_count": 4,
   "metadata": {},
   "outputs": [
    {
     "data": {
      "text/plain": [
       "4600"
      ]
     },
     "execution_count": 4,
     "metadata": {},
     "output_type": "execute_result"
    }
   ],
   "source": [
    "10**2 + 30**2 + 60**2"
   ]
  },
  {
   "cell_type": "code",
   "execution_count": null,
   "metadata": {},
   "outputs": [],
   "source": []
  }
 ],
 "metadata": {
  "kernelspec": {
   "display_name": "Python 3",
   "language": "python",
   "name": "python3"
  },
  "language_info": {
   "codemirror_mode": {
    "name": "ipython",
    "version": 3
   },
   "file_extension": ".py",
   "mimetype": "text/x-python",
   "name": "python",
   "nbconvert_exporter": "python",
   "pygments_lexer": "ipython3",
   "version": "3.8.5"
  }
 },
 "nbformat": 4,
 "nbformat_minor": 4
}
